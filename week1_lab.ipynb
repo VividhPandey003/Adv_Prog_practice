{
  "nbformat": 4,
  "nbformat_minor": 0,
  "metadata": {
    "colab": {
      "provenance": []
    },
    "kernelspec": {
      "name": "python3",
      "display_name": "Python 3"
    },
    "language_info": {
      "name": "python"
    }
  },
  "cells": [
    {
      "cell_type": "code",
      "execution_count": 7,
      "metadata": {
        "colab": {
          "base_uri": "https://localhost:8080/",
          "height": 0
        },
        "id": "NKWKFTj0bWZe",
        "outputId": "d29e97b9-b905-4393-d337-77ae806a5091"
      },
      "outputs": [
        {
          "output_type": "stream",
          "name": "stdout",
          "text": [
            "Enter the number of people dead 2000\n",
            "Enter the number of people injured 3000\n",
            "Enter the number of people safe 10000\n",
            "TSUNAMI REPORT OF JAPAN \n",
            "  The number of people\n",
            "  1)Dead: 2000\n",
            "  2)Injured: 3000\n",
            "  3)Safe: 10000\n",
            "  Please help the people who are suffering!!!\n"
          ]
        }
      ],
      "source": [
        "'''\n",
        "In Japan ,there was a very huge Tsunami. Millions and millions worth buildings and properties were destroyed. Many people lost their lives. \n",
        "Most of them were injured and few were safe. A news reporter arrives to the spot to take the current survey regarding the situation of the people alive , \n",
        "dead and injured. He wanted to publish it in the newspaper and ask the other countries to help the affected people. \n",
        "'''\n",
        "dead = int(input(\"Enter the number of people dead \"))\n",
        "injured = int(input(\"Enter the number of people injured \"))\n",
        "safe = int(input(\"Enter the number of people safe \"))\n",
        "print(f'''TSUNAMI REPORT OF JAPAN \n",
        "  The number of people\n",
        "  1)Dead: {dead}\n",
        "  2)Injured: {injured}\n",
        "  3)Safe: {safe}\n",
        "  Please help the people who are suffering!!!'''\n",
        ")"
      ]
    },
    {
      "cell_type": "code",
      "source": [
        "'''\n",
        "Sumanth having N number of elements and he decided to create a set for it.and after creating set he wants to add some elements to set and \n",
        "remove elements to set and find the difference between two sets, and he wants to know the intersection elements in two sets.and all the process \n",
        "will be shown in input and output format specifications.\n",
        "'''\n",
        "\n",
        "set1 = set(input(\"Please Enter the set-1 elements :: \").split())\n",
        "set2 = set(input(\"Please Enter the set-2 elements :: \").split())\n",
        "\n",
        "print(\"choose one option: 1) add \\n 2) remove \\n 3) difference \\n 4) intersection\\n\")\n",
        "choice = int(input().strip())\n",
        "\n",
        "print(\"choose set: 1) set1 2) set2\")\n",
        "set_choice = int(input().strip())\n",
        "\n",
        "# perform operation\n",
        "if choice == 1:\n",
        "    element = input().strip()\n",
        "    if set_choice == 1:\n",
        "        set1.add(element)\n",
        "    else:\n",
        "        set2.add(element)\n",
        "\n",
        "elif choice == 2:\n",
        "    element = input().strip()\n",
        "    if set_choice == 1:\n",
        "        set1.discard(element)\n",
        "    else:\n",
        "        set2.discard(element)\n",
        "\n",
        "elif choice == 3:\n",
        "    if set_choice == 1:\n",
        "        result = set1.difference(set2)\n",
        "    else:\n",
        "        result = set2.difference(set1)\n",
        "    print(\"set(\" + str(sorted(list(result))) + \")\")\n",
        "\n",
        "elif choice == 4:\n",
        "    result = set1.intersection(set2)\n",
        "    print(\"set(\" + str(sorted(list(result))) + \")\")\n",
        "\n",
        "else:\n",
        "    print(\"invalid choice\")\n",
        "\n",
        "if choice in [1, 2]:\n",
        "    if set_choice == 1:\n",
        "        print(\"set(\" + str(sorted(list(set1))) + \")\")\n",
        "    else:\n",
        "        print(\"set(\" + str(sorted(list(set2))) + \")\")\n"
      ],
      "metadata": {
        "colab": {
          "base_uri": "https://localhost:8080/",
          "height": 0
        },
        "id": "wzXmdfCxe-3w",
        "outputId": "3c36479c-807d-461a-d613-a9ede69ea210"
      },
      "execution_count": 18,
      "outputs": [
        {
          "output_type": "stream",
          "name": "stdout",
          "text": [
            "Please Enter the set-1 elements :: mango,apple,samsung\n",
            "Please Enter the set-2 elements :: mango,apple,samsung\n",
            "choose one option: 1) add \n",
            " 2) remove \n",
            " 3) difference \n",
            " 4) intersection\n",
            "\n",
            "1\n",
            "choose set: 1) set1 2) set2\n",
            "1\n",
            "orange\n",
            "set(['mango,apple,samsung', 'orange'])\n"
          ]
        }
      ]
    },
    {
      "cell_type": "code",
      "source": [
        "'''\n",
        "Newton’s method (also known as the Newton–Raphson method),  is a method for finding successively better approximations to the roots (or zeroes) \n",
        "of a real-valued function. The algorithm is first in the class of Householder’s methods, succeeded by Halley’s method. The method can also be \n",
        "extended to complex functions and to systems of equations.\n",
        "Given a number, write a program to find the square root of a number using Newton’s Square Root.\n",
        "'''\n",
        "\n",
        "x = int(input(\"Enter the number whose square root is to be found\"))\n",
        "# Initialize the approximation to the square root and defining the accuracy\n",
        "approx = x / 2\n",
        "epsilon = 0.001\n",
        "while abs(approx * approx - x) > epsilon:    \n",
        "    approx = (approx + x / approx) / 2\n",
        "\n",
        "print(\"The square root of\", x, \"is approximately\", approx)\n",
        "\n"
      ],
      "metadata": {
        "colab": {
          "base_uri": "https://localhost:8080/",
          "height": 0
        },
        "id": "fIgGfgjae2OY",
        "outputId": "fede96b3-42c6-4f8c-cd49-670ad10116b5"
      },
      "execution_count": 13,
      "outputs": [
        {
          "output_type": "stream",
          "name": "stdout",
          "text": [
            "Enter the number whose square root is to be found16\n",
            "The square root of 16 is approximately 4.0000001858445895\n"
          ]
        }
      ]
    },
    {
      "cell_type": "code",
      "source": [
        "'''\n",
        "Ravi wants to familiar with some pattern programs. So help him to \n",
        "Write a python code to read a number n from a user and print an inverted right \n",
        "triangle star pattern of the desired size.\n",
        "'''\n",
        "\n",
        "n=int(input(\"Enter number of rows: \"))\n",
        "for i in range (n):\n",
        "    print((n-i) * '*')"
      ],
      "metadata": {
        "colab": {
          "base_uri": "https://localhost:8080/",
          "height": 0
        },
        "id": "ujhFWHyudMqF",
        "outputId": "53ca9b7a-9412-497e-e962-38455bc9d83e"
      },
      "execution_count": 11,
      "outputs": [
        {
          "output_type": "stream",
          "name": "stdout",
          "text": [
            "Enter number of rows: 4\n",
            "****\n",
            "***\n",
            "**\n",
            "*\n"
          ]
        }
      ]
    },
    {
      "cell_type": "code",
      "source": [
        "'''\n",
        "Write a Python program\n",
        "To add new elements to the end of the list\n",
        "To reverse elements in the list\n",
        "To display same list elements multiple times\n",
        "To concatenate two lists\n",
        "To sort the elements in the list in ascending order\n",
        "'''\n",
        "\n",
        "list1 = [i for i in range(5)]\n",
        "list1.append(int(input(\"Enter element to be appended to the list\")))\n",
        "list1.append(int(input(\"Enter element to be appended to the list\")))\n",
        "\n",
        "list1.reverse()\n",
        "\n",
        "list2 = list1 * 3\n",
        "\n",
        "list3 = list1 + list2\n",
        "\n",
        "list3.sort()\n",
        "\n",
        "print(\"Final list:\", list3)\n"
      ],
      "metadata": {
        "colab": {
          "base_uri": "https://localhost:8080/",
          "height": 0
        },
        "id": "tpyybKZ8eGjw",
        "outputId": "a312e391-9340-46c1-a1c6-0db5d539e3f6"
      },
      "execution_count": 15,
      "outputs": [
        {
          "output_type": "stream",
          "name": "stdout",
          "text": [
            "Enter element to be appended to the list12\n",
            "Enter element to be appended to the list14\n",
            "Final list: [0, 0, 0, 0, 1, 1, 1, 1, 2, 2, 2, 2, 3, 3, 3, 3, 4, 4, 4, 4, 12, 12, 12, 12, 14, 14, 14, 14]\n"
          ]
        }
      ]
    }
  ]
}